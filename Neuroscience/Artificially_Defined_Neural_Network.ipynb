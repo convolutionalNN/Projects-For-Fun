{
  "nbformat": 4,
  "nbformat_minor": 0,
  "metadata": {
    "colab": {
      "name": "Artificially-Defined Neural Network",
      "provenance": [],
      "authorship_tag": "ABX9TyMLC9fi4q6VtPXW/8WfKy6B",
      "include_colab_link": true
    },
    "kernelspec": {
      "name": "python3",
      "display_name": "Python 3"
    }
  },
  "cells": [
    {
      "cell_type": "markdown",
      "metadata": {
        "id": "view-in-github",
        "colab_type": "text"
      },
      "source": [
        "<a href=\"https://colab.research.google.com/github/convolutionalNN/Projects-For-Fun/blob/master/Neuroscience/Artificially_Defined_Neural_Network.ipynb\" target=\"_parent\"><img src=\"https://colab.research.google.com/assets/colab-badge.svg\" alt=\"Open In Colab\"/></a>"
      ]
    },
    {
      "cell_type": "code",
      "metadata": {
        "id": "O_XmnlO9BBFg",
        "colab_type": "code",
        "colab": {}
      },
      "source": [
        "#######################################################################################\n",
        "#    ORIGINAL SOURCE CODE:\n",
        "#    Title: <Simple Neural Network with 1 hidden layer with the number\n",
        "#    of hidden units as a hyperparameter to calculate the XOR function>\n",
        "#    Author: <Kitsios Konstantinos>\n",
        "#    Date: <Nov 10, 2018>\n",
        "#    Code version: <1.0.1>\n",
        "#    Availability: <https://github.com/kitsiosk/xor-neural-net/blob/master/neural_net.py>\n",
        "#\n",
        "#######################################################################################"
      ],
      "execution_count": 0,
      "outputs": []
    },
    {
      "cell_type": "code",
      "metadata": {
        "id": "EOn-VAH5bK_t",
        "colab_type": "code",
        "colab": {}
      },
      "source": [
        "#HYPERPARAMETERS\n",
        "num_of_iters = 1000 #signals sent\n",
        "learning_rate = 0.3\n",
        "binary1 = 0\n",
        "binary2 = 1\n",
        "sequence1 = 4\n",
        "sequence2 = 6"
      ],
      "execution_count": 0,
      "outputs": []
    },
    {
      "cell_type": "code",
      "metadata": {
        "id": "Q02Ga9UqbUy_",
        "colab_type": "code",
        "colab": {}
      },
      "source": [
        "import numpy as np\n",
        "import matplotlib.pyplot as plt\n",
        "import random"
      ],
      "execution_count": 0,
      "outputs": []
    },
    {
      "cell_type": "code",
      "metadata": {
        "id": "ERBgEXHeNeXG",
        "colab_type": "code",
        "colab": {}
      },
      "source": [
        "X_train = []\n",
        "for i in range(0,191):\n",
        "  X_train.append([i])\n",
        "X_train = np.array(X_train, dtype=np.uint8)\n",
        "X_train = np.unpackbits(X_train, axis=1)\n",
        "X_train = np.rot90(X_train ,3)"
      ],
      "execution_count": 0,
      "outputs": []
    },
    {
      "cell_type": "code",
      "metadata": {
        "id": "KmPD_U-3Q5Vb",
        "colab_type": "code",
        "colab": {}
      },
      "source": [
        "X_test = []\n",
        "for i in range(192,255):\n",
        "  X_test.append([i])\n",
        "X_test = np.array(X_test, dtype=np.uint8)\n",
        "X_test = np.unpackbits(X_test, axis=1)\n",
        "X_test = np.rot90(X_test, 3)"
      ],
      "execution_count": 0,
      "outputs": []
    },
    {
      "cell_type": "code",
      "metadata": {
        "id": "83TrSpmFR2XD",
        "colab_type": "code",
        "colab": {}
      },
      "source": [
        "Y_train = []\n",
        "for i in range(0,191):\n",
        "  if(X_train[sequence1][i] == binary1 and X_train[sequence2][i] == binary2):\n",
        "    Y_train.append(1)\n",
        "  else:\n",
        "    Y_train.append(0)"
      ],
      "execution_count": 0,
      "outputs": []
    },
    {
      "cell_type": "code",
      "metadata": {
        "id": "rDK9PSD-R6Hf",
        "colab_type": "code",
        "colab": {}
      },
      "source": [
        "Y_test = []\n",
        "for i in range(0, 63):\n",
        "  if(X_test[sequence1][i] == binary1 and X_test[sequence2][i] == binary2):\n",
        "    Y_test.append(1)\n",
        "  else:\n",
        "    Y_test.append(0)"
      ],
      "execution_count": 0,
      "outputs": []
    },
    {
      "cell_type": "code",
      "metadata": {
        "id": "InR0Q-RiMuzt",
        "colab_type": "code",
        "outputId": "5c10037b-2005-4787-f2d2-f4a425212d56",
        "colab": {
          "base_uri": "https://localhost:8080/",
          "height": 490
        }
      },
      "source": [
        "X = X_train\n",
        "Y = np.array(Y_train)\n",
        "\n",
        "def sigmoid(z):\n",
        "    return 1/(1 + np.exp(-z))\n",
        "\n",
        "def initialize_parameters(n_x, n_h, n_y):\n",
        "    W1 = np.random.randn(8, 8) #n_h,n_x\n",
        "    b1 = np.zeros((8, 1))\n",
        "    W2 = np.random.randn(8, 8) #n_h, n_x\n",
        "    b2 = np.zeros((8, 1)) #n_h, 1\n",
        "    W3 = np.random.randn(8, 8)\n",
        "    b3 = np.zeros((8, 1))\n",
        "    W4 = np.random.randn(n_y, 8)\n",
        "    b4 = np.zeros((n_y, 1))\n",
        "\n",
        "\n",
        "    parameters = {\n",
        "        \"W1\": W1,\n",
        "        \"b1\": b1,\n",
        "        \"W2\": W2,\n",
        "        \"b2\": b2,\n",
        "        \"W3\": W3,\n",
        "        \"b3\": b3,\n",
        "        \"W4\": W4,\n",
        "        \"b4\": b4\n",
        "    }\n",
        "    return parameters\n",
        "\n",
        "def forward_prop(X, parameters):\n",
        "    W1 = parameters[\"W1\"]\n",
        "    b1 = parameters[\"b1\"]\n",
        "    W2 = parameters[\"W2\"]\n",
        "    b2 = parameters[\"b2\"]\n",
        "    W3 = parameters[\"W3\"]\n",
        "    b3 = parameters[\"b3\"]\n",
        "    W4 = parameters[\"W4\"]\n",
        "    b4 = parameters[\"b4\"]\n",
        "\n",
        "    Z1 = np.dot(W1, X) + b1\n",
        "    A1 = np.tanh(Z1)\n",
        "    Z2 = np.dot(W2, A1) + b2\n",
        "    A2 = np.tanh(Z2)\n",
        "    Z3 = np.dot(W3, A2) + b3\n",
        "    A3 = np.tanh(Z3)\n",
        "    Z4 = np.dot(W4, A3) + b4\n",
        "    A4 = sigmoid(Z4)\n",
        "\n",
        "    cache = {\n",
        "        \"A1\": A1,\n",
        "        \"A2\": A2,\n",
        "        \"A3\": A3,\n",
        "        \"A4\": A4\n",
        "    }\n",
        "    return A4, cache\n",
        "\n",
        "\n",
        "def calculate_cost(A4, Y):\n",
        "    cost = -np.sum(np.multiply(Y, np.log(A4)) +  np.multiply(1-Y, np.log(1-A4)))/m\n",
        "    cost = np.squeeze(cost)\n",
        "\n",
        "    return cost\n",
        "\n",
        "def backward_prop(X, Y, cache, parameters):\n",
        "    A1 = cache[\"A1\"]\n",
        "    A2 = cache[\"A2\"]\n",
        "    A3 = cache[\"A3\"]\n",
        "    A4 = cache[\"A4\"]\n",
        "\n",
        "    W4 = parameters[\"W4\"]\n",
        "    W3 = parameters[\"W3\"]\n",
        "    W2 = parameters[\"W2\"]\n",
        "\n",
        "    dZ4 = A4 - Y\n",
        "    dW4 = np.dot(dZ4, A3.T)/m\n",
        "    db4 = np.sum(dZ4, axis=1, keepdims=True)/m\n",
        "    dZ3 = np.multiply(np.dot(W4.T, dZ4), 1-np.power(A3, 2))\n",
        "    dW3 = np.dot(dZ3, A2.T)/m\n",
        "    db3 = np.sum(dZ3, axis=1, keepdims=True)/m\n",
        "    dZ2 = np.multiply(np.dot(W3.T, dZ3), 1-np.power(A2, 2))\n",
        "    dW2 = np.dot(dZ2, A1.T)/m\n",
        "    db2 = np.sum(dZ2, axis=1, keepdims=True)/m\n",
        "    dZ1 = np.multiply(np.dot(W2.T, dZ2), 1-np.power(A1, 2))\n",
        "    dW1 = np.dot(dZ1, X.T)/m\n",
        "    db1 = np.sum(dZ1, axis=1, keepdims=True)/m\n",
        "\n",
        "    grads = {\n",
        "        \"dW1\": dW1,\n",
        "        \"db1\": db1,\n",
        "        \"dW2\": dW2,\n",
        "        \"db2\": db2,\n",
        "        \"dW3\": dW3,\n",
        "        \"db3\": db3,\n",
        "        \"dW4\": dW4,\n",
        "        \"db4\": db4\n",
        "    }\n",
        "\n",
        "    return grads\n",
        "\n",
        "def update_parameters(parameters, grads, learning_rate):\n",
        "    W1 = parameters[\"W1\"]\n",
        "    b1 = parameters[\"b1\"]\n",
        "    W2 = parameters[\"W2\"]\n",
        "    b2 = parameters[\"b2\"]\n",
        "    W3 = parameters[\"W3\"]\n",
        "    b3 = parameters[\"b3\"]\n",
        "    W4 = parameters[\"W4\"]\n",
        "    b4 = parameters[\"b4\"]\n",
        "\n",
        "    dW1 = grads[\"dW1\"]\n",
        "    db1 = grads[\"db1\"]\n",
        "    dW2 = grads[\"dW2\"]\n",
        "    db2 = grads[\"db2\"]\n",
        "    dW3 = grads[\"dW3\"]\n",
        "    db3 = grads[\"db3\"]\n",
        "    dW4 = grads[\"dW4\"]\n",
        "    db4 = grads[\"db4\"]\n",
        "\n",
        "    W1 = W1 - learning_rate*dW1\n",
        "    b1 = b1 - learning_rate*db1\n",
        "    W2 = W2 - learning_rate*dW2\n",
        "    b2 = b2 - learning_rate*db2\n",
        "    W3 = W3 - learning_rate*dW3\n",
        "    b3 = b3 - learning_rate*db3\n",
        "    W4 = W4 - learning_rate*dW4\n",
        "    b4 = b4 - learning_rate*db4\n",
        "    \n",
        "    new_parameters = {\n",
        "        \"W1\": W1,\n",
        "        \"W2\": W2,\n",
        "        \"b1\" : b1,\n",
        "        \"b2\" : b2,\n",
        "        \"W3\": W3,\n",
        "        \"W4\": W4,\n",
        "        \"b3\" : b3,\n",
        "        \"b4\" : b4\n",
        "    }\n",
        "\n",
        "    return new_parameters\n",
        "\n",
        "\n",
        "def model(X, Y, n_x, n_h, n_y, num_of_iters, learning_rate):\n",
        "    parameters = initialize_parameters(n_x, n_h, n_y)\n",
        "\n",
        "    costs = [] #ADDED\n",
        "\n",
        "    for i in range(0, num_of_iters+1):\n",
        "        a4, cache = forward_prop(X, parameters)\n",
        "\n",
        "        cost = calculate_cost(a4, Y)\n",
        "\n",
        "        grads = backward_prop(X, Y, cache, parameters)\n",
        "\n",
        "        parameters = update_parameters(parameters, grads, learning_rate)\n",
        "\n",
        "        costs.append(cost) #ADDED\n",
        "\n",
        "        if(i%100 == 0):\n",
        "            costs.append(cost)\n",
        "            print('Cost after iteration# {:d}: {:f}'.format(i, cost))\n",
        "\n",
        "    plt.plot(costs) #ADDED\n",
        "    plt.ylabel('Cost Value of ' + x)\n",
        "    plt.xlabel('Number of Iterations')\n",
        "    plt.axis([0, 1000, 0, 1])\n",
        "\n",
        "\n",
        "    return parameters\n",
        "\n",
        "def predict(X, parameters):\n",
        "    a4, cache = forward_prop(X, parameters)\n",
        "    yhat = a4\n",
        "    yhat = np.squeeze(yhat)\n",
        "    y_predict = yhat #NEW\n",
        "    return y_predict\n",
        "\n",
        "\n",
        "np.random.seed(2)\n",
        "\n",
        "# No. of training examples\n",
        "m = X.shape[1]\n",
        "\n",
        "# Set the hyperparameters\n",
        "n_x = 8     #No. of neurons in first layer\n",
        "n_h = 8     #No. of neurons in hidden layer\n",
        "n_y = 1     #No. of neurons in output layer\n",
        "\n",
        "trained_parameters = model(X, Y, n_x, n_h, n_y, num_of_iters, learning_rate)\n",
        "\n",
        "x = str(binary1) + ' in the ' + str(sequence1) + ' place and ' + str(binary2) + ' in the ' + str(sequence2) + ' place'"
      ],
      "execution_count": 0,
      "outputs": [
        {
          "output_type": "stream",
          "text": [
            "Cost after iteration# 0: 0.937583\n",
            "Cost after iteration# 100: 0.016826\n",
            "Cost after iteration# 200: 0.005427\n",
            "Cost after iteration# 300: 0.003092\n",
            "Cost after iteration# 400: 0.002183\n",
            "Cost after iteration# 500: 0.001690\n",
            "Cost after iteration# 600: 0.001377\n",
            "Cost after iteration# 700: 0.001161\n",
            "Cost after iteration# 800: 0.001002\n",
            "Cost after iteration# 900: 0.000880\n",
            "Cost after iteration# 1000: 0.000783\n"
          ],
          "name": "stdout"
        },
        {
          "output_type": "display_data",
          "data": {
            "image/png": "[encoded data removed]",
            "text/plain": [
              "<Figure size 432x288 with 1 Axes>"
            ]
          },
          "metadata": {
            "tags": [],
            "needs_background": "light"
          }
        }
      ]
    },
    {
      "cell_type": "code",
      "metadata": {
        "id": "_dgobllewaQI",
        "colab_type": "code",
        "colab": {}
      },
      "source": [
        "X = X_test\n",
        "Y = np.array(Y_test)\n",
        "accuracy = []\n",
        "results = predict(X_test, trained_parameters)\n",
        "print(results)\n",
        "for i in range(len(results)):  \n",
        "  if(results[i] > 0.5):\n",
        "    accuracy.append(1)\n",
        "  else:\n",
        "    accuracy.append(0)\n",
        "error = np.sum(np.array(accuracy) - Y_test)\n",
        "print('Accuracy: ' + str(100 - error) + '%')"
      ],
      "execution_count": 0,
      "outputs": []
    }
  ]
}