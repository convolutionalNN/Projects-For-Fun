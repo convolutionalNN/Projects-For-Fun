{
  "nbformat": 4,
  "nbformat_minor": 0,
  "metadata": {
    "colab": {
      "name": "AP Research",
      "provenance": [],
      "include_colab_link": true
    },
    "kernelspec": {
      "name": "python3",
      "display_name": "Python 3"
    }
  },
  "cells": [
    {
      "cell_type": "markdown",
      "metadata": {
        "id": "view-in-github",
        "colab_type": "text"
      },
      "source": [
        "<a href=\"https://colab.research.google.com/github/convolutionalNN/Projects-For-Fun/blob/master/AP_Research.ipynb\" target=\"_parent\"><img src=\"https://colab.research.google.com/assets/colab-badge.svg\" alt=\"Open In Colab\"/></a>"
      ]
    },
    {
      "cell_type": "markdown",
      "metadata": {
        "id": "cl_BOL38ZPOm",
        "colab_type": "text"
      },
      "source": [
        "**Libraries**"
      ]
    },
    {
      "cell_type": "code",
      "metadata": {
        "id": "orK-WlcR0z4R",
        "colab_type": "code",
        "colab": {}
      },
      "source": [
        "import numpy as np"
      ],
      "execution_count": 0,
      "outputs": []
    },
    {
      "cell_type": "markdown",
      "metadata": {
        "id": "izkYoxoO30Ao",
        "colab_type": "text"
      },
      "source": [
        "**Hyperparameters**"
      ]
    },
    {
      "cell_type": "code",
      "metadata": {
        "id": "zVws6X5kPQ8M",
        "colab_type": "code",
        "colab": {}
      },
      "source": [
        "#EPOCHS = ?\n",
        "COLUMNS = 4\n",
        "alpha = .05 #incremental adjustment of backpropagated weights"
      ],
      "execution_count": 0,
      "outputs": []
    },
    {
      "cell_type": "markdown",
      "metadata": {
        "id": "JZTfvgIoZVvK",
        "colab_type": "text"
      },
      "source": [
        "**Input Data/Target Output**"
      ]
    },
    {
      "cell_type": "code",
      "metadata": {
        "id": "Fx-_pyVqXWz9",
        "colab_type": "code",
        "colab": {}
      },
      "source": [
        "#small sample of training data\n",
        "inputs1 = np.array([[2, 3, 4, 5], [3, 4, 5, 6], [4, 5, 6, 7], [5, 6, 7, 8], [6, 7, 8, 9], [7, 8, 9, 10]]) #sequence 1\n",
        "inputs2 = np.array([[2, 4, 6, 8], [4, 6, 8, 10], [6, 8, 10, 12], [8, 10, 12, 14], [10, 12, 14, 16], [12, 14, 16, 18]]) #sequence 2\n",
        "target1 = 0\n",
        "target2 = 1"
      ],
      "execution_count": 0,
      "outputs": []
    },
    {
      "cell_type": "markdown",
      "metadata": {
        "id": "hsj_mZxpZapq",
        "colab_type": "text"
      },
      "source": [
        "**Initialization**"
      ]
    },
    {
      "cell_type": "code",
      "metadata": {
        "id": "I3VeDAvCZN0j",
        "colab_type": "code",
        "colab": {}
      },
      "source": [
        "w1 = np.random.rand(4, 4)\n",
        "w2 = np.random.rand(4, 4)\n",
        "w3 = np.random.rand(4, 4)\n",
        "wF = np.random.rand(1, 4)\n",
        "W = [wF, w3, w2, w1]"
      ],
      "execution_count": 0,
      "outputs": []
    },
    {
      "cell_type": "code",
      "metadata": {
        "id": "3wCTsT1lL8Q2",
        "colab_type": "code",
        "colab": {}
      },
      "source": [
        "z1 = []\n",
        "z2 = []\n",
        "z3 = []\n",
        "zF = []\n",
        "zL = [zF, z3, z2, z1]"
      ],
      "execution_count": 0,
      "outputs": []
    },
    {
      "cell_type": "code",
      "metadata": {
        "id": "kaKBy-LGYJBa",
        "colab_type": "code",
        "colab": {}
      },
      "source": [
        "layer1 = []\n",
        "layer2 = []\n",
        "layer3 = []"
      ],
      "execution_count": 0,
      "outputs": []
    },
    {
      "cell_type": "code",
      "metadata": {
        "id": "6Q0JyV-nCnnQ",
        "colab_type": "code",
        "colab": {}
      },
      "source": [
        "w1_bp = []\n",
        "w2_bp = []\n",
        "w3_bp = []\n",
        "wF_bp = []\n",
        "W_bp = [wF_bp, w3_bp, w2_bp, w1_bp]"
      ],
      "execution_count": 0,
      "outputs": []
    },
    {
      "cell_type": "code",
      "metadata": {
        "id": "K8b0CPTee5WV",
        "colab_type": "code",
        "colab": {}
      },
      "source": [
        "layer1_bp = []\n",
        "layer2_bp = []\n",
        "layer3_bp = []"
      ],
      "execution_count": 0,
      "outputs": []
    },
    {
      "cell_type": "markdown",
      "metadata": {
        "id": "jXKfuo1fdnDa",
        "colab_type": "text"
      },
      "source": [
        "**Activation**"
      ]
    },
    {
      "cell_type": "code",
      "metadata": {
        "id": "ZJnnQe0SYJDr",
        "colab_type": "code",
        "colab": {}
      },
      "source": [
        "def sigmoid(x):\n",
        "  return 1/(1 + np.exp(-x))\n",
        "\n",
        "def sigmoid_bp(x):\n",
        "  return sigmoid(x) * (1 - sigmoid(x))"
      ],
      "execution_count": 0,
      "outputs": []
    },
    {
      "cell_type": "markdown",
      "metadata": {
        "id": "9bWWJeXee9AM",
        "colab_type": "text"
      },
      "source": [
        "**Feedforward**"
      ]
    },
    {
      "cell_type": "code",
      "metadata": {
        "id": "_z_kPKNAMXRo",
        "colab_type": "code",
        "colab": {}
      },
      "source": [
        "def ff(inputs, weights, Z):\n",
        "  z = inputs[np.random.randint(0, len(inputs))] * weights #theta * x\n",
        "  if(z.shape == (4,4)): #final layer propagation only\n",
        "      for i in range(len(z)):\n",
        "        Z.append(z[i]) #store z values\n",
        "  else:\n",
        "    for i in range(len(z)):\n",
        "      Z.append(z[i])\n",
        "  neuron = []\n",
        "  for i in range(len(z)):\n",
        "    a = np.sum(z[i])\n",
        "    neuron.append(a)\n",
        "  neuron = sigmoid(np.array(neuron)) #sigmoid(z) activation\n",
        "  return neuron\n",
        "  print(neuron)"
      ],
      "execution_count": 0,
      "outputs": []
    },
    {
      "cell_type": "code",
      "metadata": {
        "id": "8JBVsBHpH416",
        "colab_type": "code",
        "colab": {}
      },
      "source": [
        "layer1 = ff(inputs1, w1, z1) #for propagation of sequence 1"
      ],
      "execution_count": 0,
      "outputs": []
    },
    {
      "cell_type": "code",
      "metadata": {
        "id": "11V_QgCkIBiO",
        "colab_type": "code",
        "colab": {}
      },
      "source": [
        "layer1 = ff(inputs2, w1, z1) #for propagation of sequence 2"
      ],
      "execution_count": 0,
      "outputs": []
    },
    {
      "cell_type": "code",
      "metadata": {
        "id": "I7NlsWakTbOa",
        "colab_type": "code",
        "colab": {}
      },
      "source": [
        "layer2 = ff(layer1, w2, z2)\n",
        "layer3 = ff(layer2, w2, z3)\n",
        "output = ff(layer3, wF, zF)\n",
        "print(output)"
      ],
      "execution_count": 0,
      "outputs": []
    },
    {
      "cell_type": "markdown",
      "metadata": {
        "id": "w8gkQ36rDzBN",
        "colab_type": "text"
      },
      "source": [
        "**Error Calculation**"
      ]
    },
    {
      "cell_type": "code",
      "metadata": {
        "id": "CKWOdn9sDyWW",
        "colab_type": "code",
        "colab": {}
      },
      "source": [
        "def cost(x, target):\n",
        "  cost = np.square((x - target))\n",
        "  return cost\n",
        "  print(cost)"
      ],
      "execution_count": 0,
      "outputs": []
    },
    {
      "cell_type": "code",
      "metadata": {
        "id": "WvkmXHLNEwPX",
        "colab_type": "code",
        "colab": {}
      },
      "source": [
        "cost(output, target1) #error of sequence 1"
      ],
      "execution_count": 0,
      "outputs": []
    },
    {
      "cell_type": "code",
      "metadata": {
        "id": "OiOexsyuCL_3",
        "colab_type": "code",
        "colab": {}
      },
      "source": [
        "cost(output, target2)  #error of sequence 2"
      ],
      "execution_count": 0,
      "outputs": []
    },
    {
      "cell_type": "markdown",
      "metadata": {
        "id": "VrdLiHGcedQm",
        "colab_type": "text"
      },
      "source": [
        "**Backpropagation**"
      ]
    },
    {
      "cell_type": "code",
      "metadata": {
        "id": "V--uym-qlw9u",
        "colab_type": "code",
        "colab": {}
      },
      "source": [
        "def next_layer(array, layer, i):\n",
        "    x = i\n",
        "    array_total = array[x - 1] + array[x] + array[x + 1] + array[x + 2]\n",
        "    layer.append(array_total)"
      ],
      "execution_count": 0,
      "outputs": []
    },
    {
      "cell_type": "code",
      "metadata": {
        "id": "tezUF0-DABnU",
        "colab_type": "code",
        "colab": {}
      },
      "source": [
        "def bp(output, target, weight, weight_bp, z, weight_bp2, layer):\n",
        "  if(z == zF): #only for backpropagation with cost function\n",
        "    for i in range(len(z)):\n",
        "      bp = 2 * (output - target) * sigmoid_bp(z[i]) * weight[i] #dC/da * da/dz * dz/da\n",
        "      weight_bp.append(bp) #store weight errors\n",
        "    print(weight_bp)\n",
        "  else:\n",
        "    bp_a = [] #stores sum of backpropagated weights multiplied with previous backpropagation calculations for new layer\n",
        "    if(weight_bp2 == wF_bp): #solves issue of final layer array element calling\n",
        "      c = weight_bp2[0]\n",
        "    else:\n",
        "      c = weight_bp2 #previous layer activation\n",
        "    for i in range(COLUMNS):\n",
        "      f = c[i]\n",
        "      for i in range(COLUMNS):\n",
        "        a = weight[i] #iterate over stored weights\n",
        "        b = z[i] #iterate over stored z values\n",
        "        bp_sum = [] #temporarily stores sum of backpropagated weights\n",
        "        for i in range(COLUMNS):\n",
        "          bp = sigmoid_bp(b[i]) * a[i] #da/dz * dz/da\n",
        "          weight_bp.append(bp)\n",
        "          bp_sum.append(bp)\n",
        "        bp_a.append(f * np.sum(bp_sum))\n",
        "    for i in range(COLUMNS * 4 - 2): #adding groups of four elements from bp_a to account for all neuronal influence to the next layer\n",
        "      if(i == COLUMNS - 3):\n",
        "        next_layer(bp_a, layer, i)\n",
        "      elif(i == COLUMNS + 1):\n",
        "        next_layer(bp_a, layer, i)\n",
        "      elif(i == COLUMNS + 5):\n",
        "        next_layer(bp_a, layer, i)\n",
        "      elif(i == COLUMNS + 9):\n",
        "        next_layer(bp_a, layer, i)\n",
        "    print(layer)"
      ],
      "execution_count": 0,
      "outputs": []
    },
    {
      "cell_type": "code",
      "metadata": {
        "id": "Jz62AGs8TcAJ",
        "colab_type": "code",
        "colab": {}
      },
      "source": [
        "bp(output, target1, wF, wF_bp, zF, 0, 0) #for backpropagation of sequence 1"
      ],
      "execution_count": 0,
      "outputs": []
    },
    {
      "cell_type": "code",
      "metadata": {
        "id": "IWa_K98lE5ZX",
        "colab_type": "code",
        "colab": {}
      },
      "source": [
        "bp(output, target2, wF, wF_bp, zF, 0, 0) #for backpropagation of sequence 1"
      ],
      "execution_count": 0,
      "outputs": []
    },
    {
      "cell_type": "code",
      "metadata": {
        "id": "6jHWvb7bjz8L",
        "colab_type": "code",
        "colab": {}
      },
      "source": [
        "bp(0, 0, w3, w3_bp, z3, wF_bp, layer3_bp)"
      ],
      "execution_count": 0,
      "outputs": []
    },
    {
      "cell_type": "code",
      "metadata": {
        "id": "yk0231OXj3qf",
        "colab_type": "code",
        "colab": {}
      },
      "source": [
        "bp(0, 0, w2, w2_bp, z2, layer3_bp, layer2_bp)"
      ],
      "execution_count": 0,
      "outputs": []
    },
    {
      "cell_type": "code",
      "metadata": {
        "id": "8wGtNrDYj4KQ",
        "colab_type": "code",
        "colab": {}
      },
      "source": [
        "bp(0, 0, w1, w1_bp, z1, layer2_bp, layer1_bp)"
      ],
      "execution_count": 0,
      "outputs": []
    },
    {
      "cell_type": "code",
      "metadata": {
        "id": "xlSLfd16H1wH",
        "colab_type": "code",
        "colab": {}
      },
      "source": [
        "def update(weight, weight_error):  \n",
        "  a = np.multiply(alpha, weight_error)\n",
        "  b = np.reshape(a, (4, 16))\n",
        "  c = np.reshape(weight, 16)\n",
        "  d = c + b\n",
        "  e = 0\n",
        "  for i in range(COLUMNS):\n",
        "    e += d[i]\n",
        "  print(e)"
      ],
      "execution_count": 0,
      "outputs": []
    },
    {
      "cell_type": "code",
      "metadata": {
        "id": "dya0_SzeHO-Q",
        "colab_type": "code",
        "colab": {}
      },
      "source": [
        "wF = wF + np.multiply(alpha, wF_bp) #update weights!!!\n",
        "w3 = update(w3, w3_bp)\n",
        "w2 = update(w2, w2_bp)\n",
        "w1 = update(w1, w1_bp)"
      ],
      "execution_count": 0,
      "outputs": []
    },
    {
      "cell_type": "code",
      "metadata": {
        "id": "S0hu4F_2FG1a",
        "colab_type": "code",
        "colab": {}
      },
      "source": [
        "#THE REST IS COMING SOON :)"
      ],
      "execution_count": 0,
      "outputs": []
    },
    {
      "cell_type": "markdown",
      "metadata": {
        "id": "l0YMI--m4zU4",
        "colab_type": "text"
      },
      "source": [
        "**Activation**"
      ]
    },
    {
      "cell_type": "code",
      "metadata": {
        "id": "tz9jFAx6481c",
        "colab_type": "code",
        "colab": {}
      },
      "source": [
        ""
      ],
      "execution_count": 0,
      "outputs": []
    },
    {
      "cell_type": "markdown",
      "metadata": {
        "id": "9wQlhH0w48E0",
        "colab_type": "text"
      },
      "source": [
        "**Synaptic Potentiation/Depression**"
      ]
    },
    {
      "cell_type": "code",
      "metadata": {
        "id": "A5xFfrms5C2G",
        "colab_type": "code",
        "colab": {}
      },
      "source": [
        ""
      ],
      "execution_count": 0,
      "outputs": []
    },
    {
      "cell_type": "markdown",
      "metadata": {
        "id": "gpin9H3I5H6b",
        "colab_type": "text"
      },
      "source": [
        "**Homeostatic Plasticity**"
      ]
    },
    {
      "cell_type": "code",
      "metadata": {
        "id": "LXnU7AKF5IGc",
        "colab_type": "code",
        "colab": {}
      },
      "source": [
        ""
      ],
      "execution_count": 0,
      "outputs": []
    },
    {
      "cell_type": "markdown",
      "metadata": {
        "id": "0q4AeVvv5CNk",
        "colab_type": "text"
      },
      "source": [
        "**Synaptogenesis**"
      ]
    },
    {
      "cell_type": "code",
      "metadata": {
        "id": "jzcpNtd6_lzP",
        "colab_type": "code",
        "colab": {}
      },
      "source": [
        ""
      ],
      "execution_count": 0,
      "outputs": []
    }
  ]
}