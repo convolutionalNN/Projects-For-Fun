{
  "nbformat": 4,
  "nbformat_minor": 0,
  "metadata": {
    "colab": {
      "name": "AP Research",
      "provenance": [],
      "include_colab_link": true
    },
    "kernelspec": {
      "name": "python3",
      "display_name": "Python 3"
    }
  },
  "cells": [
    {
      "cell_type": "markdown",
      "metadata": {
        "id": "view-in-github",
        "colab_type": "text"
      },
      "source": [
        "<a href=\"https://colab.research.google.com/github/convolutionalNN/Projects-For-Fun/blob/master/AP_Research.ipynb\" target=\"_parent\"><img src=\"https://colab.research.google.com/assets/colab-badge.svg\" alt=\"Open In Colab\"/></a>"
      ]
    },
    {
      "cell_type": "markdown",
      "metadata": {
        "id": "cl_BOL38ZPOm",
        "colab_type": "text"
      },
      "source": [
        "**Libraries**"
      ]
    },
    {
      "cell_type": "code",
      "metadata": {
        "id": "orK-WlcR0z4R",
        "colab_type": "code",
        "colab": {}
      },
      "source": [
        "import numpy as np"
      ],
      "execution_count": 0,
      "outputs": []
    },
    {
      "cell_type": "markdown",
      "metadata": {
        "id": "izkYoxoO30Ao",
        "colab_type": "text"
      },
      "source": [
        "**Hyperparameters**"
      ]
    },
    {
      "cell_type": "code",
      "metadata": {
        "id": "zVws6X5kPQ8M",
        "colab_type": "code",
        "colab": {}
      },
      "source": [
        "EPOCHS = 100\n",
        "COLUMNS = 4\n",
        "ROWS = 4\n",
        "alpha = .1 #incremental adjustment of backpropagated weights\n",
        "target1 = 0\n",
        "target2 = 1"
      ],
      "execution_count": 0,
      "outputs": []
    },
    {
      "cell_type": "markdown",
      "metadata": {
        "id": "JZTfvgIoZVvK",
        "colab_type": "text"
      },
      "source": [
        "**Input Data**"
      ]
    },
    {
      "cell_type": "code",
      "metadata": {
        "id": "8w3FKyy6D8Rw",
        "colab_type": "code",
        "colab": {}
      },
      "source": [
        "#x number of values in inputs\n",
        "def data(n, x):\n",
        "  y = np.arange(2 * n, (x + 2) * n)[::n]\n",
        "  z = np.reshape(y, (int(x/4), 4))\n",
        "  return z"
      ],
      "execution_count": 0,
      "outputs": []
    },
    {
      "cell_type": "code",
      "metadata": {
        "id": "Fx-_pyVqXWz9",
        "colab_type": "code",
        "colab": {}
      },
      "source": [
        "#training data\n",
        "inputs1 = data(1, 400)\n",
        "inputs2 = data(2, 400)"
      ],
      "execution_count": 0,
      "outputs": []
    },
    {
      "cell_type": "markdown",
      "metadata": {
        "id": "hsj_mZxpZapq",
        "colab_type": "text"
      },
      "source": [
        "**Initialization**"
      ]
    },
    {
      "cell_type": "markdown",
      "metadata": {
        "id": "jXKfuo1fdnDa",
        "colab_type": "text"
      },
      "source": [
        "**Activation**"
      ]
    },
    {
      "cell_type": "code",
      "metadata": {
        "id": "ZJnnQe0SYJDr",
        "colab_type": "code",
        "colab": {}
      },
      "source": [
        "def sigmoid(x):\n",
        "  return 1/(1 + np.exp(-x))\n",
        "\n",
        "def sigmoid_bp(x):\n",
        "  return sigmoid(x) * (1 - sigmoid(x))"
      ],
      "execution_count": 0,
      "outputs": []
    },
    {
      "cell_type": "markdown",
      "metadata": {
        "id": "9bWWJeXee9AM",
        "colab_type": "text"
      },
      "source": [
        "**Feedforward**"
      ]
    },
    {
      "cell_type": "code",
      "metadata": {
        "id": "_z_kPKNAMXRo",
        "colab_type": "code",
        "colab": {}
      },
      "source": [
        "def ff(inputs, weights, Z):\n",
        "  z = inputs[np.random.randint(0, len(inputs))] * weights #theta * x\n",
        "  #print(weights)\n",
        "  if(z.shape == (4,4)): #final layer propagation only\n",
        "      for i in range(len(z)):\n",
        "        Z.append(z[i]) #store z values\n",
        "  else:\n",
        "    for i in range(len(z)):\n",
        "      Z.append(z[i])\n",
        "  #print(Z)\n",
        "  neuron = []\n",
        "  for i in range(len(z)):\n",
        "    a = np.sum(z[i])\n",
        "    neuron.append(a)\n",
        "  neuron = sigmoid(np.array(neuron)) #sigmoid(z) activation\n",
        "  return neuron\n",
        "  #print(neuron)"
      ],
      "execution_count": 0,
      "outputs": []
    },
    {
      "cell_type": "markdown",
      "metadata": {
        "id": "w8gkQ36rDzBN",
        "colab_type": "text"
      },
      "source": [
        "**Error Calculation**"
      ]
    },
    {
      "cell_type": "code",
      "metadata": {
        "id": "CKWOdn9sDyWW",
        "colab_type": "code",
        "colab": {}
      },
      "source": [
        "def cost(x, target):\n",
        "  cost = np.square((x - target))\n",
        "  return cost\n",
        "  print(cost)"
      ],
      "execution_count": 0,
      "outputs": []
    },
    {
      "cell_type": "markdown",
      "metadata": {
        "id": "VrdLiHGcedQm",
        "colab_type": "text"
      },
      "source": [
        "**Backpropagation**"
      ]
    },
    {
      "cell_type": "code",
      "metadata": {
        "id": "V--uym-qlw9u",
        "colab_type": "code",
        "colab": {}
      },
      "source": [
        "def next_layer(array, layer, i):\n",
        "    x = i\n",
        "    array_total = array[x - 1] + array[x] + array[x + 1] + array[x + 2]\n",
        "    layer.append(array_total)"
      ],
      "execution_count": 0,
      "outputs": []
    },
    {
      "cell_type": "code",
      "metadata": {
        "id": "tezUF0-DABnU",
        "colab_type": "code",
        "colab": {}
      },
      "source": [
        "def bp(output, target, weight, weight_bp, z, weight_bp2, layer):\n",
        "  if(z == zF): #only for backpropagation with cost function\n",
        "    a = weight[0]\n",
        "    for i in range(len(z)):\n",
        "      bp = 2 * (output - target) * sigmoid_bp(z[i]) * a[i] #dC/da * da/dz * dz/da\n",
        "      weight_bp.append(bp) #store weight errors\n",
        "    #print(weight_bp)\n",
        "  else:\n",
        "    bp_a = [] #stores sum of backpropagated weights multiplied with previous backpropagation calculations for new layer\n",
        "    if(weight_bp2 == wF_bp): #solves issue of final layer array element calling\n",
        "      c = weight_bp2[0]\n",
        "    else:\n",
        "      c = weight_bp2 #previous layer activation\n",
        "      #print(weight_bp2)\n",
        "    for i in range(COLUMNS):\n",
        "      f = c[i]\n",
        "      #print(f)\n",
        "      for i in range(COLUMNS):\n",
        "        a = weight[i] #iterate over stored weights\n",
        "        b = z[i] #iterate over stored z values\n",
        "        bp_sum = [] #temporarily stores sum of backpropagated weights\n",
        "        for i in range(COLUMNS):\n",
        "          bp = sigmoid_bp(b[i]) * a[i] #da/dz * dz/da\n",
        "          weight_bp.append(bp)\n",
        "          bp_sum.append(bp)\n",
        "          #print(bp)\n",
        "        bp_a.append(f * np.sum(bp_sum))\n",
        "        #print(bp_a)\n",
        "    for i in range(COLUMNS * 4 - 2): #adding groups of four elements from bp_a to account for all neuronal influence to the next layer\n",
        "      if(i == COLUMNS - 3):\n",
        "        next_layer(bp_a, layer, i)\n",
        "      elif(i == COLUMNS + 1):\n",
        "        next_layer(bp_a, layer, i)\n",
        "      elif(i == COLUMNS + 5):\n",
        "        next_layer(bp_a, layer, i)\n",
        "      elif(i == COLUMNS + 9):\n",
        "        next_layer(bp_a, layer, i)\n",
        "    #print(layer)"
      ],
      "execution_count": 0,
      "outputs": []
    },
    {
      "cell_type": "code",
      "metadata": {
        "id": "xlSLfd16H1wH",
        "colab_type": "code",
        "colab": {}
      },
      "source": [
        "def update(weight, weight_error):  \n",
        "  a = np.multiply(alpha, weight_error)\n",
        "  #print(a)\n",
        "  b = np.reshape(a, (4, 16))\n",
        "  c = np.reshape(weight, 16)\n",
        "  d = c - b[0] - b[1] - b[2] - b[3]\n",
        "  weight = np.reshape(d, (4, 4))\n",
        "  return weight\n",
        "  #print(weight)"
      ],
      "execution_count": 0,
      "outputs": []
    },
    {
      "cell_type": "code",
      "metadata": {
        "id": "I3VeDAvCZN0j",
        "colab_type": "code",
        "colab": {}
      },
      "source": [
        "def initialize():  \n",
        "  global z1, z2, z3, zF, layer1, layer2, layer3, w1_bp, w2_bp, w3_bp, wF_bp, layer1_bp, layer2_bp, layer3_bp\n",
        "  z1 = []\n",
        "  z2 = []\n",
        "  z3 = []\n",
        "  zF = []\n",
        "  layer1 = []\n",
        "  layer2 = []\n",
        "  layer3 = []\n",
        "  #backpropagation\n",
        "  w1_bp = []\n",
        "  w2_bp = []\n",
        "  w3_bp = []\n",
        "  wF_bp = []\n",
        "  layer1_bp = []\n",
        "  layer2_bp = []\n",
        "  layer3_bp = []"
      ],
      "execution_count": 0,
      "outputs": []
    },
    {
      "cell_type": "code",
      "metadata": {
        "id": "QGWUwhzed0i5",
        "colab_type": "code",
        "colab": {}
      },
      "source": [
        "#forward propagation\n",
        "w1 = np.random.rand(4, 4)\n",
        "w2 = np.random.rand(4, 4)\n",
        "w3 = np.random.rand(4, 4)\n",
        "wF = np.random.rand(1, 4)"
      ],
      "execution_count": 0,
      "outputs": []
    },
    {
      "cell_type": "code",
      "metadata": {
        "id": "G9gBzk8CSMNx",
        "colab_type": "code",
        "colab": {}
      },
      "source": [
        "initialize()"
      ],
      "execution_count": 0,
      "outputs": []
    },
    {
      "cell_type": "code",
      "metadata": {
        "id": "rn9O88MXBMFH",
        "colab_type": "code",
        "colab": {}
      },
      "source": [
        "for i in range(EPOCHS):\n",
        "  layer1 = ff(inputs1, w1, z1)\n",
        "  layer2 = ff(layer1, w2, z2)\n",
        "  layer3 = ff(layer2, w2, z3)\n",
        "  output = ff(layer3, wF, zF)\n",
        "  bp(output, target1, wF, wF_bp, zF, 0, 0)\n",
        "  bp(0, 0, w3, w3_bp, z3, wF_bp, layer3_bp)\n",
        "  bp(0, 0, w2, w2_bp, z2, layer3_bp, layer2_bp)\n",
        "  bp(0, 0, w1, w1_bp, z1, layer2_bp, layer1_bp)\n",
        "\n",
        "  wF = wF - np.multiply(alpha, wF_bp) #update weights!!!\n",
        "  w3 = update(w3, w3_bp)\n",
        "  w2 = update(w2, w2_bp)\n",
        "  w1 = update(w1, w1_bp)\n",
        "\n",
        "  initialize()\n",
        "print(cost(output, target1))"
      ],
      "execution_count": 0,
      "outputs": []
    },
    {
      "cell_type": "markdown",
      "metadata": {
        "id": "l0YMI--m4zU4",
        "colab_type": "text"
      },
      "source": [
        "**Activation**"
      ]
    },
    {
      "cell_type": "code",
      "metadata": {
        "id": "tz9jFAx6481c",
        "colab_type": "code",
        "colab": {}
      },
      "source": [
        ""
      ],
      "execution_count": 0,
      "outputs": []
    },
    {
      "cell_type": "markdown",
      "metadata": {
        "id": "9wQlhH0w48E0",
        "colab_type": "text"
      },
      "source": [
        "**Synaptic Potentiation/Depression**"
      ]
    },
    {
      "cell_type": "code",
      "metadata": {
        "id": "A5xFfrms5C2G",
        "colab_type": "code",
        "colab": {}
      },
      "source": [
        ""
      ],
      "execution_count": 0,
      "outputs": []
    },
    {
      "cell_type": "markdown",
      "metadata": {
        "id": "gpin9H3I5H6b",
        "colab_type": "text"
      },
      "source": [
        "**Homeostatic Plasticity**"
      ]
    },
    {
      "cell_type": "code",
      "metadata": {
        "id": "LXnU7AKF5IGc",
        "colab_type": "code",
        "colab": {}
      },
      "source": [
        ""
      ],
      "execution_count": 0,
      "outputs": []
    },
    {
      "cell_type": "markdown",
      "metadata": {
        "id": "0q4AeVvv5CNk",
        "colab_type": "text"
      },
      "source": [
        "**Synaptogenesis**"
      ]
    },
    {
      "cell_type": "code",
      "metadata": {
        "id": "jzcpNtd6_lzP",
        "colab_type": "code",
        "colab": {}
      },
      "source": [
        ""
      ],
      "execution_count": 0,
      "outputs": []
    }
  ]
}